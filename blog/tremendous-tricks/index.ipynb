{
  "cells": [
    {
      "cell_type": "raw",
      "metadata": {},
      "source": [
        "---\n",
        "title: \"X Tremendous Tricks of the Siubaverse\"\n",
        "author: \"Michael Chow\"\n",
        "date: \"2022-09-21\"\n",
        "categories: [tutorial, pandas]\n",
        "---"
      ],
      "id": "10cc7831"
    },
    {
      "cell_type": "code",
      "metadata": {},
      "source": [
        "from gapminder import gapminder\n",
        "from siuba import _"
      ],
      "id": "d72aa5ce",
      "execution_count": null,
      "outputs": []
    },
    {
      "cell_type": "markdown",
      "metadata": {},
      "source": [
        "## `count()`\n"
      ],
      "id": "99cb4635"
    },
    {
      "cell_type": "code",
      "metadata": {},
      "source": [
        "# uses phd data, need a wt argument\n",
        "#count(gapminder, _.continent, sort=True, wt=, name=\"graduates\")"
      ],
      "id": "51ae770e",
      "execution_count": null,
      "outputs": []
    },
    {
      "cell_type": "markdown",
      "metadata": {},
      "source": [
        "## `count()` or `group_by()` with expressions\n"
      ],
      "id": "19a8b30d"
    },
    {
      "cell_type": "code",
      "metadata": {},
      "source": [
        "# maryland bridges\n",
        "count(maryland_bridges, decade = 10 * (_.year // 10))\n",
        "\n",
        "# then plot"
      ],
      "id": "8d2268dd",
      "execution_count": null,
      "outputs": []
    },
    {
      "cell_type": "markdown",
      "metadata": {},
      "source": [
        "## `add_count()`\n"
      ],
      "id": "914450ed"
    },
    {
      "cell_type": "code",
      "metadata": {},
      "source": [
        "# show manual counting approach"
      ],
      "id": "1962b8fc",
      "execution_count": null,
      "outputs": []
    },
    {
      "cell_type": "code",
      "metadata": {},
      "source": [
        "# space launches\n",
        "# launches >> add_count(_.type) >> filter(_.n >= 20)"
      ],
      "id": "cbd254ac",
      "execution_count": null,
      "outputs": []
    },
    {
      "cell_type": "markdown",
      "metadata": {},
      "source": [
        "## `summarize()` to create a list column\n"
      ],
      "id": "5b6fdc5e"
    },
    {
      "cell_type": "code",
      "metadata": {},
      "source": [
        "# nyc restaurant data\n",
        "# all a t-test\n",
        "# (restaurants\n",
        "#     >> group_by(_.cuisine)\n",
        "#     >> summarize(test = list())\n",
        "# )"
      ],
      "id": "9d5d9a34",
      "execution_count": null,
      "outputs": []
    },
    {
      "cell_type": "markdown",
      "metadata": {},
      "source": [
        "## `fct_reorder()` + `geom_col()` + `coord_flip()`\n"
      ],
      "id": "cfe7ac00"
    },
    {
      "cell_type": "code",
      "metadata": {},
      "source": [
        "# uses it across many datasets\n",
        "# bob ross\n",
        "# tennis grand slams\n",
        "# us majors?\n",
        "# common words in medium post titles\n",
        "# franchises"
      ],
      "id": "09ecbc63",
      "execution_count": null,
      "outputs": []
    },
    {
      "cell_type": "markdown",
      "metadata": {},
      "source": [
        "## `fct_lump()`\n"
      ],
      "id": "3c9ab947"
    },
    {
      "cell_type": "code",
      "metadata": {},
      "source": [
        "# horror movies (but do space launches)\n",
        "#(horror_movies\n",
        "#    >> mutate(rating = fct_lump(rating, 5))\n",
        "#    >> mutate(rating = fct_reorder(_.rating, _.score))\n",
        "#    >> ggplot(aes(\"rating\", \"score\"))\n",
        "#    + geom_boxplot()\n",
        "#    + coord_flip()\n",
        "#)"
      ],
      "id": "0ac38ac8",
      "execution_count": null,
      "outputs": []
    },
    {
      "cell_type": "markdown",
      "metadata": {},
      "source": [
        "## `scale_x/y_log10()`\n"
      ],
      "id": "f6ef67e4"
    },
    {
      "cell_type": "code",
      "metadata": {},
      "source": [
        "# y-axis co2 omissions\n",
        "# x-axis gdp"
      ],
      "id": "462fc164",
      "execution_count": null,
      "outputs": []
    },
    {
      "cell_type": "markdown",
      "metadata": {},
      "source": [
        "## `crossing()`\n"
      ],
      "id": "3fc15a14"
    },
    {
      "cell_type": "code",
      "metadata": {},
      "source": [
        "# tougher to explain"
      ],
      "id": "2ea4fcad",
      "execution_count": null,
      "outputs": []
    },
    {
      "cell_type": "markdown",
      "metadata": {},
      "source": [
        "## `separate()`\n"
      ],
      "id": "cea4c6f5"
    },
    {
      "cell_type": "code",
      "metadata": {},
      "source": [
        "# find something with a funky separator"
      ],
      "id": "423c919c",
      "execution_count": null,
      "outputs": []
    },
    {
      "cell_type": "markdown",
      "metadata": {},
      "source": [
        "## `extract()`\n"
      ],
      "id": "5cf5ac3c"
    },
    {
      "cell_type": "code",
      "metadata": {},
      "source": [
        "# bob ross data extract season and episode"
      ],
      "id": "6b479754",
      "execution_count": null,
      "outputs": []
    }
  ],
  "metadata": {
    "kernelspec": {
      "name": "venv-siuba",
      "language": "python",
      "display_name": "venv-siuba"
    }
  },
  "nbformat": 4,
  "nbformat_minor": 5
}